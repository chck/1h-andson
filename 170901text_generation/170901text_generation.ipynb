{
 "cells": [
  {
   "cell_type": "markdown",
   "metadata": {},
   "source": [
    "# Deepまで潜りたい小説自動生成\n",
    "\n",
    "# 0. そもそも文章の自動生成とは \n",
    "### 文章を「単語のリスト」と捉えて、単語の順番を学習し、入力の単語から次に来そうな単語を次々と予測することで、尤もらしい文章を生成すること\n",
    "\n",
    "### 例えば：\n",
    "#### 〜〜〜に入る言葉を考えてみる（なんでもいい）\n",
    "- 今日**〜〜〜**\n",
    "- 目覚まし**〜〜〜**\n",
    "- バナナ**〜〜〜**\n",
    "---\n",
    "#### 回答例：\n",
    "- 今日 -> **の天気は晴れ**\n",
    "- 目覚まし -> **が鳴らなくて寝坊した**\n",
    "- バナナ -> **といったら黄色**\n",
    "---\n",
    "### パターンを知っているだけ文章を作れる\n",
    "- 今日 -> **の天気は晴れ**\n",
    "- 今日 -> **の天気は曇り**\n",
    "- 今日 -> **の天気は雨**\n",
    "- 今日 -> **はなんだか疲れた**\n",
    "- 今日 -> **から夏休みでうれしい**\n",
    "\n",
    "### これを機械にやらせるのが今日のハンズオン!!"
   ]
  },
  {
   "cell_type": "markdown",
   "metadata": {},
   "source": [
    "# 1. 形態素解析\n",
    "### 文章を単語に分ける技術。仕組み的には辞書マッチング。単語の切れ目がわかりにくい言語（日本語等）の前処理で必須\n",
    "\n",
    "### 機械は文章を「単語のリスト」と捉えている\n",
    "- 今日から夏休みでうれしい\n",
    "  - [\"今日\", \"から\", \"夏休み\", \"で\", \"うれしい\"]"
   ]
  },
  {
   "cell_type": "code",
   "execution_count": 1,
   "metadata": {},
   "outputs": [
    {
     "data": {
      "text/plain": [
       "[{'features': ['名詞', '副詞可能', '*', '*', '*', '*', '今日', 'キョウ', 'キョー'],\n",
       "  'surface': '今日'},\n",
       " {'features': ['助詞', '格助詞', '一般', '*', '*', '*', 'から', 'カラ', 'カラ'],\n",
       "  'surface': 'から'},\n",
       " {'features': ['名詞', '一般', '*', '*', '*', '*', '夏休み', 'ナツヤスミ', 'ナツヤスミ'],\n",
       "  'surface': '夏休み'},\n",
       " {'features': ['助詞', '格助詞', '一般', '*', '*', '*', 'で', 'デ', 'デ'],\n",
       "  'surface': 'で'},\n",
       " {'features': ['形容詞', '自立', '*', '*', '形容詞・イ段', '基本形', 'うれしい', 'ウレシイ', 'ウレシイ'],\n",
       "  'surface': 'うれしい'}]"
      ]
     },
     "execution_count": 1,
     "metadata": {},
     "output_type": "execute_result"
    }
   ],
   "source": [
    "\"\"\"形態素解析してみよう①\n",
    "- MeCab\n",
    "- Yahoo形態素解析\n",
    "等が有名\n",
    "\"\"\"\n",
    "import requests\n",
    "\n",
    "sentence = \"今日から夏休みでうれしい\"\n",
    "response = requests.get('https://mecab-server-dot-cyberagent-105.appspot.com/parse?q={}'.format(sentence)).json()\n",
    "response['result']"
   ]
  },
  {
   "cell_type": "code",
   "execution_count": 2,
   "metadata": {
    "scrolled": true
   },
   "outputs": [
    {
     "data": {
      "text/plain": [
       "[['名詞', '副詞可能', '*', '*', '*', '*', '今日', 'キョウ', 'キョー'],\n",
       " ['助詞', '格助詞', '一般', '*', '*', '*', 'から', 'カラ', 'カラ'],\n",
       " ['名詞', '一般', '*', '*', '*', '*', '夏休み', 'ナツヤスミ', 'ナツヤスミ'],\n",
       " ['助詞', '格助詞', '一般', '*', '*', '*', 'で', 'デ', 'デ'],\n",
       " ['形容詞', '自立', '*', '*', '形容詞・イ段', '基本形', 'うれしい', 'ウレシイ', 'ウレシイ']]"
      ]
     },
     "execution_count": 2,
     "metadata": {},
     "output_type": "execute_result"
    }
   ],
   "source": [
    "\"\"\"形態素解析してみよう②\n",
    "\"\"\"\n",
    "[chunk['features'] for chunk in response['result']]"
   ]
  },
  {
   "cell_type": "code",
   "execution_count": 3,
   "metadata": {},
   "outputs": [
    {
     "data": {
      "text/plain": [
       "['今日', 'から', '夏休み', 'で', 'うれしい']"
      ]
     },
     "execution_count": 3,
     "metadata": {},
     "output_type": "execute_result"
    }
   ],
   "source": [
    "\"\"\"形態素解析してみよう③\n",
    "\"\"\"\n",
    "[chunk['features'][6] for chunk in response['result']]"
   ]
  },
  {
   "cell_type": "code",
   "execution_count": 4,
   "metadata": {},
   "outputs": [
    {
     "data": {
      "text/plain": [
       "['今日', 'から', '夏休み', 'で', 'うれしい']"
      ]
     },
     "execution_count": 4,
     "metadata": {},
     "output_type": "execute_result"
    }
   ],
   "source": [
    "\"\"\"形態素解析してみよう④\n",
    "\"\"\"\n",
    "def split_chunks(sentence):\n",
    "    response = requests.get('https://mecab-server-dot-cyberagent-105.appspot.com/parse?q={}'.format(sentence)).json()\n",
    "    return [chunk['features'][6] for chunk in response['result']]\n",
    "\n",
    "split_chunks(\"今日から夏休みでうれしい\")"
   ]
  },
  {
   "cell_type": "markdown",
   "metadata": {},
   "source": [
    "# 2. マルコフ連鎖\n",
    "### 最初の単語の、次の単語の候補をいくつか覚えていて、その中から１つ選んで繋げていく方法"
   ]
  },
  {
   "cell_type": "code",
   "execution_count": 5,
   "metadata": {},
   "outputs": [
    {
     "name": "stdout",
     "output_type": "stream",
     "text": [
      "--2017-09-01 04:34:46--  http://www.aozora.gr.jp/cards/000148/files/789_ruby_5639.zip\n",
      "Resolving www.aozora.gr.jp (www.aozora.gr.jp)... 59.106.13.115\n",
      "Connecting to www.aozora.gr.jp (www.aozora.gr.jp)|59.106.13.115|:80... connected.\n",
      "HTTP request sent, awaiting response... 200 OK\n",
      "Length: 350404 (342K) [application/zip]\n",
      "Saving to: ‘789_ruby_5639.zip’\n",
      "\n",
      "789_ruby_5639.zip   100%[===================>] 342.19K  --.-KB/s    in 0.1s    \n",
      "\n",
      "2017-09-01 04:34:46 (2.54 MB/s) - ‘789_ruby_5639.zip’ saved [350404/350404]\n",
      "\n",
      "Archive:  789_ruby_5639.zip\n",
      "  inflating: wagahaiwa_nekodearu.txt  \n",
      "��y�͔L�ł���\n",
      "�Ėڟ���\n",
      "\n",
      "-------------------------------------------------------\n",
      "�y�e�L�X�g���Ɍ����L���ɂ��āz\n",
      "\n",
      "�s�t�F���r\n",
      "�i��j��y�s�킪�͂��t�͔L�ł���\n",
      "\n",
      "�b�F���r�̕t��������̎n�܂����肷��L��\n"
     ]
    }
   ],
   "source": [
    "\"\"\"まずは文章を学習させる\n",
    "試しに青空文庫の小説を覚えさせる\n",
    "http://www.aozora.gr.jp/index.html\n",
    "\"\"\"\n",
    "\n",
    "!wget http://www.aozora.gr.jp/cards/000148/files/789_ruby_5639.zip\n",
    "!unzip 789_ruby_5639.zip\n",
    "!rm -f 789_ruby_5639.zip\n",
    "!head wagahaiwa_nekodearu.txt"
   ]
  },
  {
   "cell_type": "code",
   "execution_count": 6,
   "metadata": {},
   "outputs": [
    {
     "name": "stdout",
     "output_type": "stream",
     "text": [
      "吾輩は猫である\r",
      "\r\n",
      "夏目漱石\r",
      "\r\n",
      "\r",
      "\r\n",
      "-------------------------------------------------------\r",
      "\r\n",
      "【テキスト中に現れる記号について】\r",
      "\r\n",
      "\r",
      "\r\n",
      "《》：ルビ\r",
      "\r\n",
      "（例）吾輩《わがはい》は猫である\r",
      "\r\n",
      "\r",
      "\r\n",
      "｜：ルビの付く文字列の始まりを特定する記号\r",
      "\r\n",
      "（例）一番｜獰悪《どうあく》な種族であった\r",
      "\r\n",
      "\r",
      "\r\n",
      "［＃］：入力者注　主に外字の説明や、傍点の位置の指定\r",
      "\r\n",
      "　　　（数字は、JIS X 0213の面区点番号またはUnicode、底本のページと行数）\r",
      "\r\n",
      "（例）※［＃「言＋墟のつくり」、第4水準2-88-74］\r",
      "\r\n",
      "\r",
      "\r\n",
      "〔〕：アクセント分解された欧文をかこむ\r",
      "\r\n",
      "（例）〔Quid aliud est mulier nisi amicitiae& inimica〕\r",
      "\r\n",
      "アクセント分解についての詳細は下記URLを参照してください\r",
      "\r\n",
      "http://www.aozora.gr.jp/accent_separation.html\r",
      "\r\n",
      "-------------------------------------------------------\r",
      "\r\n",
      "\r",
      "\r\n",
      "［＃８字下げ］一［＃「一」は中見出し］\r",
      "\r\n",
      "\r",
      "\r\n",
      "　吾輩《わがはい》は猫である。名前はまだ無い。\r",
      "\r\n",
      "　どこで生れたかとんと見当《けんとう》がつかぬ。何でも薄暗いじめじめした所でニャーニャー泣いていた事だけは記憶している。吾輩はここで始めて人間というものを見た。しかもあとで聞くとそれは書生という人間中で一番｜獰悪《どうあく》な種族であったそうだ。この書生というのは時々我々を捕《つかま》えて煮《に》て食うという話である。しかしその当時は何という考もなかったから別段恐しいとも思わなかった。ただ彼の掌《てのひら》に載せられてスーと持ち上げられた時何だかフワフワした感じがあったばかりである。掌の上で少し落ちついて書生の顔を見たのがいわゆる人間というものの見始《みはじめ》であろう。この時妙なものだと思った感じが今でも残っている。第一毛をもって装飾されべきはずの顔がつるつるしてまるで薬缶《やかん》だ。その後《ご》猫にもだいぶ逢《あ》ったがこんな片輪《かたわ》には一度も出会《でく》わした事がない。のみならず顔の真中があまりに突起している。そうしてその穴の中から時々ぷうぷうと煙《けむり》を吹く。どうも咽《む》せぽくて実に弱った。これが人間の飲む煙草《たばこ》というものである事はようやくこの頃知った。\r",
      "\r\n"
     ]
    }
   ],
   "source": [
    "\"\"\"文字コードがつらいのでUTF-8に変換...\n",
    "\"\"\"\n",
    "\n",
    "import codecs\n",
    "with codecs.open('wagahaiwa_nekodearu.txt', 'r', 'shift_jis') as r:\n",
    "    with codecs.open('wagahaiwa_nekodearu_utf8.txt', 'w', 'utf-8') as w:\n",
    "        w.write(r.read())\n",
    "\n",
    "!rm -f wagahaiwa_nekodearu.txt\n",
    "!head -26 wagahaiwa_nekodearu_utf8.txt"
   ]
  },
  {
   "cell_type": "code",
   "execution_count": 7,
   "metadata": {},
   "outputs": [
    {
     "name": "stdout",
     "output_type": "stream",
     "text": [
      "　吾輩は猫である。\r\n",
      "名前はまだ無い。\r\n",
      "　どこで生れたかとんと見当がつかぬ。\r\n",
      "何でも薄暗いじめじめした所でニャーニャー泣いていた事だけは記憶している。\r\n",
      "吾輩はここで始めて人間というものを見た。\r\n",
      "しかもあとで聞くとそれは書生という人間中で一番｜獰悪な種族であったそうだ。\r\n",
      "この書生というのは時々我々を捕えて煮て食うという話である。\r\n",
      "しかしその当時は何という考もなかったから別段恐しいとも思わなかった。\r\n",
      "ただ彼の掌に載せられてスーと持ち上げられた時何だかフワフワした感じがあったばかりである。\r\n",
      "掌の上で少し落ちついて書生の顔を見たのがいわゆる人間というものの見始であろう。\r\n"
     ]
    }
   ],
   "source": [
    "\"\"\"先頭と最後の余計な文の掃除とルビの削除と改行の調整\n",
    "\"\"\"\n",
    "\n",
    "!sed -i '1,24d' wagahaiwa_nekodearu_utf8.txt\n",
    "!sed -i '2336,$d' wagahaiwa_nekodearu_utf8.txt\n",
    "!sed -i -E 's/《[^》]+》//g' wagahaiwa_nekodearu_utf8.txt\n",
    "!cat wagahaiwa_nekodearu_utf8.txt | tr -d '\\n' | tr -d '\\r' | sed -E 's/。/。\\n/g' > wagahaiwa_nekodearu_parsed.txt\n",
    "!head -10 wagahaiwa_nekodearu_parsed.txt"
   ]
  },
  {
   "cell_type": "code",
   "execution_count": 8,
   "metadata": {},
   "outputs": [
    {
     "data": {
      "text/plain": [
       "{('うれしい', '。'): 1,\n",
       " ('から', '夏休み'): 1,\n",
       " ('で', 'うれしい'): 1,\n",
       " ('今日', 'から'): 1,\n",
       " ('夏休み', 'で'): 1}"
      ]
     },
     "execution_count": 8,
     "metadata": {},
     "output_type": "execute_result"
    }
   ],
   "source": [
    "\"\"\"前処理終わり、単語の繋がりを作ってみる①\n",
    "\n",
    "['今日', 'から', '夏休み', 'で', 'うれしい']\n",
    "\n",
    "- bigram\n",
    "  - ２文字ずつずらしてグループ化して繋げる\n",
    "  - 「今日から」「から夏休み」「夏休みで」「でうれしい」\n",
    "- trigram\n",
    "  - 3文字ずつずらしてグループ化して繋げる\n",
    "  - 「今日から夏休み」「から夏休みで」「夏休みでうれしい」\n",
    "- n-gram\n",
    "  - n文字ずつグループ化して繋げる\n",
    "\"\"\"\n",
    "\n",
    "chunks = split_chunks(\"今日から夏休みでうれしい。\")\n",
    "\n",
    "# 2文字の組み合わせ（bigram）をカウント。よく出てくる組み合わせは生成のときに優先度上げたりできる\n",
    "bigram_freqs = {}\n",
    "for i in range(len(chunks) - 1):\n",
    "    bigram = tuple(chunks[i : i+2])  # bigramを作る（i文字目からi+2文字目まで）\n",
    "    if bigram in bigram_freqs:\n",
    "        bigram_freqs[bigram] += 1\n",
    "    else:\n",
    "        bigram_freqs[bigram] = 1\n",
    "\n",
    "bigram_freqs"
   ]
  },
  {
   "cell_type": "code",
   "execution_count": 9,
   "metadata": {},
   "outputs": [
    {
     "data": {
      "text/plain": [
       "{('__BEGIN__', '今日', 'から'): 1,\n",
       " ('うれしい', '。'): 1,\n",
       " ('うれしい', '。', '__END__'): 1,\n",
       " ('から', '夏休み'): 1,\n",
       " ('で', 'うれしい'): 1,\n",
       " ('今日', 'から'): 1,\n",
       " ('夏休み', 'で'): 1}"
      ]
     },
     "execution_count": 9,
     "metadata": {},
     "output_type": "execute_result"
    }
   ],
   "source": [
    "\"\"\"単語の繋がりを作ってみる②\n",
    "\"\"\"\n",
    "\n",
    "# 文頭と文末はフラグをつけてカウント\n",
    "bigram_freqs[('__BEGIN__', chunks[0], chunks[1])] = 1\n",
    "bigram_freqs[(chunks[-2], chunks[-1], '__END__')] = 1\n",
    "\n",
    "bigram_freqs"
   ]
  },
  {
   "cell_type": "code",
   "execution_count": 10,
   "metadata": {},
   "outputs": [
    {
     "data": {
      "text/plain": [
       "{('__BEGIN__', '今日', 'から'): 1,\n",
       " ('うれしい', '。'): 1,\n",
       " ('うれしい', '。', '__END__'): 1,\n",
       " ('から', '夏休み'): 1,\n",
       " ('で', 'うれしい'): 1,\n",
       " ('今日', 'から'): 1,\n",
       " ('夏休み', 'で'): 1}"
      ]
     },
     "execution_count": 10,
     "metadata": {},
     "output_type": "execute_result"
    }
   ],
   "source": [
    "\"\"\"単語の繋がりを作ってみる③\n",
    "ここまでをメソッドにしてみる\n",
    "\"\"\"\n",
    "\n",
    "def make_bigram(chunks):\n",
    "    # 1文字以下なら組み合わせが作れないのでreturn\n",
    "    if len(chunks) < 2:\n",
    "        return {}\n",
    "    \n",
    "    # 2文字の組み合わせ（bigram）をカウント。よく出てくる組み合わせは生成のときに優先度上げたりできる\n",
    "    bigram_freqs = {}\n",
    "    for i in range(len(chunks) - 1):\n",
    "        bigram = tuple(chunks[i : i+2])  # bigramを作る（i文字目からi+2文字目まで）\n",
    "        if bigram in bigram_freqs:\n",
    "            bigram_freqs[bigram] += 1\n",
    "        else:\n",
    "            bigram_freqs[bigram] = 1\n",
    "\n",
    "    # 文頭と文末はフラグをつけてカウント\n",
    "    bigram_freqs[('__BEGIN__', chunks[0], chunks[1])] = 1\n",
    "    bigram_freqs[(chunks[-2], chunks[-1], '__END__')] = 1\n",
    "\n",
    "    return bigram_freqs\n",
    "\n",
    "chunks = split_chunks(\"今日から夏休みでうれしい。\")\n",
    "make_bigram(chunks)"
   ]
  },
  {
   "cell_type": "code",
   "execution_count": 191,
   "metadata": {
    "collapsed": true
   },
   "outputs": [],
   "source": [
    "# %%time\n",
    "\"\"\"文章全部でbigramを集計①\n",
    "小説に出てくる単語の繋がりを覚えさせる処理\n",
    "\n",
    "...ローカルでやると20分くらいかかるので用意したものをロードしよう\n",
    "\"\"\"\n",
    "\n",
    "# # 実行しないこと\n",
    "# bigram_freqs_all = {}\n",
    "# sentences = open('wagahaiwa_nekodearu_parsed.txt').read().replace('\\u3000', '').split('\\n')\n",
    "# for sentence in sentences:\n",
    "#     chunks = split_chunks(sentence)\n",
    "#     bigrams = make_bigram(chunks)\n",
    "#     for (bigram, n) in bigrams.items():\n",
    "#         if bigram in bigram_freqs_all:\n",
    "#             bigram_freqs_all[bigram] += n\n",
    "#         else:\n",
    "#             bigram_freqs_all[bigram] = 1\n",
    "\n",
    "# bigram_freqs_all"
   ]
  },
  {
   "cell_type": "code",
   "execution_count": 11,
   "metadata": {},
   "outputs": [
    {
     "name": "stdout",
     "output_type": "stream",
     "text": [
      "--2017-09-01 04:35:09--  https://storage.googleapis.com/chck/handson/170901text_generation/bigram_dict_waganeko.pkl\n",
      "Resolving storage.googleapis.com (storage.googleapis.com)... 172.217.25.208, 2404:6800:4004:81a::2010\n",
      "Connecting to storage.googleapis.com (storage.googleapis.com)|172.217.25.208|:443... connected.\n",
      "HTTP request sent, awaiting response... 200 OK\n",
      "Length: 1385066 (1.3M) [application/octet-stream]\n",
      "Saving to: ‘bigram_dict_waganeko.pkl’\n",
      "\n",
      "bigram_dict_waganek 100%[===================>]   1.32M  --.-KB/s    in 0.1s    \n",
      "\n",
      "2017-09-01 04:35:09 (9.21 MB/s) - ‘bigram_dict_waganeko.pkl’ saved [1385066/1385066]\n",
      "\n"
     ]
    },
    {
     "data": {
      "text/html": [
       "<div>\n",
       "<table border=\"1\" class=\"dataframe\">\n",
       "  <thead>\n",
       "    <tr style=\"text-align: right;\">\n",
       "      <th></th>\n",
       "      <th>bigram</th>\n",
       "      <th>freq</th>\n",
       "    </tr>\n",
       "  </thead>\n",
       "  <tbody>\n",
       "    <tr>\n",
       "      <th>0</th>\n",
       "      <td>(吾輩は猫である, 。)</td>\n",
       "      <td>2</td>\n",
       "    </tr>\n",
       "    <tr>\n",
       "      <th>1</th>\n",
       "      <td>(__BEGIN__, 吾輩は猫である, 。)</td>\n",
       "      <td>1</td>\n",
       "    </tr>\n",
       "    <tr>\n",
       "      <th>2</th>\n",
       "      <td>(吾輩は猫である, 。, __END__)</td>\n",
       "      <td>2</td>\n",
       "    </tr>\n",
       "    <tr>\n",
       "      <th>3</th>\n",
       "      <td>(名前, は)</td>\n",
       "      <td>7</td>\n",
       "    </tr>\n",
       "    <tr>\n",
       "      <th>4</th>\n",
       "      <td>(は, まだ)</td>\n",
       "      <td>20</td>\n",
       "    </tr>\n",
       "    <tr>\n",
       "      <th>5</th>\n",
       "      <td>(まだ, 無い)</td>\n",
       "      <td>2</td>\n",
       "    </tr>\n",
       "    <tr>\n",
       "      <th>6</th>\n",
       "      <td>(無い, 。)</td>\n",
       "      <td>3</td>\n",
       "    </tr>\n",
       "    <tr>\n",
       "      <th>7</th>\n",
       "      <td>(__BEGIN__, 名前, は)</td>\n",
       "      <td>5</td>\n",
       "    </tr>\n",
       "    <tr>\n",
       "      <th>8</th>\n",
       "      <td>(無い, 。, __END__)</td>\n",
       "      <td>3</td>\n",
       "    </tr>\n",
       "    <tr>\n",
       "      <th>9</th>\n",
       "      <td>(どこ, で)</td>\n",
       "      <td>5</td>\n",
       "    </tr>\n",
       "    <tr>\n",
       "      <th>10</th>\n",
       "      <td>(で, 生れる)</td>\n",
       "      <td>2</td>\n",
       "    </tr>\n",
       "    <tr>\n",
       "      <th>11</th>\n",
       "      <td>(生れる, た)</td>\n",
       "      <td>8</td>\n",
       "    </tr>\n",
       "    <tr>\n",
       "      <th>12</th>\n",
       "      <td>(た, 火遁)</td>\n",
       "      <td>1</td>\n",
       "    </tr>\n",
       "    <tr>\n",
       "      <th>13</th>\n",
       "      <td>(火遁, と)</td>\n",
       "      <td>1</td>\n",
       "    </tr>\n",
       "    <tr>\n",
       "      <th>14</th>\n",
       "      <td>(と, 見当)</td>\n",
       "      <td>1</td>\n",
       "    </tr>\n",
       "    <tr>\n",
       "      <th>15</th>\n",
       "      <td>(見当, が)</td>\n",
       "      <td>4</td>\n",
       "    </tr>\n",
       "    <tr>\n",
       "      <th>16</th>\n",
       "      <td>(が, つく)</td>\n",
       "      <td>17</td>\n",
       "    </tr>\n",
       "    <tr>\n",
       "      <th>17</th>\n",
       "      <td>(つく, ぬ)</td>\n",
       "      <td>5</td>\n",
       "    </tr>\n",
       "    <tr>\n",
       "      <th>18</th>\n",
       "      <td>(ぬ, 。)</td>\n",
       "      <td>48</td>\n",
       "    </tr>\n",
       "    <tr>\n",
       "      <th>19</th>\n",
       "      <td>(__BEGIN__, どこ, で)</td>\n",
       "      <td>2</td>\n",
       "    </tr>\n",
       "    <tr>\n",
       "      <th>20</th>\n",
       "      <td>(ぬ, 。, __END__)</td>\n",
       "      <td>48</td>\n",
       "    </tr>\n",
       "    <tr>\n",
       "      <th>21</th>\n",
       "      <td>(何, でも)</td>\n",
       "      <td>49</td>\n",
       "    </tr>\n",
       "    <tr>\n",
       "      <th>22</th>\n",
       "      <td>(でも, 薄暗い)</td>\n",
       "      <td>1</td>\n",
       "    </tr>\n",
       "    <tr>\n",
       "      <th>23</th>\n",
       "      <td>(薄暗い, じめじめ)</td>\n",
       "      <td>1</td>\n",
       "    </tr>\n",
       "    <tr>\n",
       "      <th>24</th>\n",
       "      <td>(じめじめ, した)</td>\n",
       "      <td>1</td>\n",
       "    </tr>\n",
       "    <tr>\n",
       "      <th>25</th>\n",
       "      <td>(した, 所)</td>\n",
       "      <td>1</td>\n",
       "    </tr>\n",
       "    <tr>\n",
       "      <th>26</th>\n",
       "      <td>(所, で)</td>\n",
       "      <td>7</td>\n",
       "    </tr>\n",
       "    <tr>\n",
       "      <th>27</th>\n",
       "      <td>(で, ニャーニャー)</td>\n",
       "      <td>1</td>\n",
       "    </tr>\n",
       "    <tr>\n",
       "      <th>28</th>\n",
       "      <td>(ニャーニャー, 泣く)</td>\n",
       "      <td>1</td>\n",
       "    </tr>\n",
       "    <tr>\n",
       "      <th>29</th>\n",
       "      <td>(泣く, て)</td>\n",
       "      <td>1</td>\n",
       "    </tr>\n",
       "    <tr>\n",
       "      <th>...</th>\n",
       "      <td>...</td>\n",
       "      <td>...</td>\n",
       "    </tr>\n",
       "    <tr>\n",
       "      <th>56270</th>\n",
       "      <td>(いざ, 知る)</td>\n",
       "      <td>1</td>\n",
       "    </tr>\n",
       "    <tr>\n",
       "      <th>56271</th>\n",
       "      <td>(、, 活版)</td>\n",
       "      <td>1</td>\n",
       "    </tr>\n",
       "    <tr>\n",
       "      <th>56272</th>\n",
       "      <td>(手紙, くらい)</td>\n",
       "      <td>1</td>\n",
       "    </tr>\n",
       "    <tr>\n",
       "      <th>56273</th>\n",
       "      <td>(だ, 金銭)</td>\n",
       "      <td>1</td>\n",
       "    </tr>\n",
       "    <tr>\n",
       "      <th>56274</th>\n",
       "      <td>(金銭, を)</td>\n",
       "      <td>1</td>\n",
       "    </tr>\n",
       "    <tr>\n",
       "      <th>56275</th>\n",
       "      <td>(出す, よう)</td>\n",
       "      <td>1</td>\n",
       "    </tr>\n",
       "    <tr>\n",
       "      <th>56276</th>\n",
       "      <td>(主人, から)</td>\n",
       "      <td>1</td>\n",
       "    </tr>\n",
       "    <tr>\n",
       "      <th>56277</th>\n",
       "      <td>(ば, 軍隊)</td>\n",
       "      <td>1</td>\n",
       "    </tr>\n",
       "    <tr>\n",
       "      <th>56278</th>\n",
       "      <td>(軍隊, を)</td>\n",
       "      <td>1</td>\n",
       "    </tr>\n",
       "    <tr>\n",
       "      <th>56279</th>\n",
       "      <td>(を, 歓迎)</td>\n",
       "      <td>2</td>\n",
       "    </tr>\n",
       "    <tr>\n",
       "      <th>56280</th>\n",
       "      <td>(歓迎, する)</td>\n",
       "      <td>3</td>\n",
       "    </tr>\n",
       "    <tr>\n",
       "      <th>56281</th>\n",
       "      <td>(まず, 自分)</td>\n",
       "      <td>1</td>\n",
       "    </tr>\n",
       "    <tr>\n",
       "      <th>56282</th>\n",
       "      <td>(__BEGIN__, 主人, から)</td>\n",
       "      <td>1</td>\n",
       "    </tr>\n",
       "    <tr>\n",
       "      <th>56283</th>\n",
       "      <td>(後, だ)</td>\n",
       "      <td>1</td>\n",
       "    </tr>\n",
       "    <tr>\n",
       "      <th>56284</th>\n",
       "      <td>(だ, 大抵)</td>\n",
       "      <td>1</td>\n",
       "    </tr>\n",
       "    <tr>\n",
       "      <th>56285</th>\n",
       "      <td>(は, 歓迎)</td>\n",
       "      <td>1</td>\n",
       "    </tr>\n",
       "    <tr>\n",
       "      <th>56286</th>\n",
       "      <td>(する, そう)</td>\n",
       "      <td>1</td>\n",
       "    </tr>\n",
       "    <tr>\n",
       "      <th>56287</th>\n",
       "      <td>(が, 朝夕)</td>\n",
       "      <td>1</td>\n",
       "    </tr>\n",
       "    <tr>\n",
       "      <th>56288</th>\n",
       "      <td>(朝夕, に)</td>\n",
       "      <td>1</td>\n",
       "    </tr>\n",
       "    <tr>\n",
       "      <th>56289</th>\n",
       "      <td>(に, 差し支える)</td>\n",
       "      <td>1</td>\n",
       "    </tr>\n",
       "    <tr>\n",
       "      <th>56290</th>\n",
       "      <td>(差し支える, 間)</td>\n",
       "      <td>1</td>\n",
       "    </tr>\n",
       "    <tr>\n",
       "      <th>56291</th>\n",
       "      <td>(、, 歓迎)</td>\n",
       "      <td>1</td>\n",
       "    </tr>\n",
       "    <tr>\n",
       "      <th>56292</th>\n",
       "      <td>(歓迎, は)</td>\n",
       "      <td>1</td>\n",
       "    </tr>\n",
       "    <tr>\n",
       "      <th>56293</th>\n",
       "      <td>(おく, 了見)</td>\n",
       "      <td>1</td>\n",
       "    </tr>\n",
       "    <tr>\n",
       "      <th>56294</th>\n",
       "      <td>(了見, らしい)</td>\n",
       "      <td>1</td>\n",
       "    </tr>\n",
       "    <tr>\n",
       "      <th>56295</th>\n",
       "      <td>(__BEGIN__, 自分, を)</td>\n",
       "      <td>1</td>\n",
       "    </tr>\n",
       "    <tr>\n",
       "      <th>56296</th>\n",
       "      <td>(二, 信)</td>\n",
       "      <td>1</td>\n",
       "    </tr>\n",
       "    <tr>\n",
       "      <th>56297</th>\n",
       "      <td>(信, を)</td>\n",
       "      <td>1</td>\n",
       "    </tr>\n",
       "    <tr>\n",
       "      <th>56298</th>\n",
       "      <td>(も, 活版)</td>\n",
       "      <td>1</td>\n",
       "    </tr>\n",
       "    <tr>\n",
       "      <th>56299</th>\n",
       "      <td>(活版, だ)</td>\n",
       "      <td>1</td>\n",
       "    </tr>\n",
       "  </tbody>\n",
       "</table>\n",
       "<p>56300 rows × 2 columns</p>\n",
       "</div>"
      ],
      "text/plain": [
       "                        bigram  freq\n",
       "0                 (吾輩は猫である, 。)     2\n",
       "1      (__BEGIN__, 吾輩は猫である, 。)     1\n",
       "2        (吾輩は猫である, 。, __END__)     2\n",
       "3                      (名前, は)     7\n",
       "4                      (は, まだ)    20\n",
       "5                     (まだ, 無い)     2\n",
       "6                      (無い, 。)     3\n",
       "7           (__BEGIN__, 名前, は)     5\n",
       "8             (無い, 。, __END__)     3\n",
       "9                      (どこ, で)     5\n",
       "10                    (で, 生れる)     2\n",
       "11                    (生れる, た)     8\n",
       "12                     (た, 火遁)     1\n",
       "13                     (火遁, と)     1\n",
       "14                     (と, 見当)     1\n",
       "15                     (見当, が)     4\n",
       "16                     (が, つく)    17\n",
       "17                     (つく, ぬ)     5\n",
       "18                      (ぬ, 。)    48\n",
       "19          (__BEGIN__, どこ, で)     2\n",
       "20             (ぬ, 。, __END__)    48\n",
       "21                     (何, でも)    49\n",
       "22                   (でも, 薄暗い)     1\n",
       "23                 (薄暗い, じめじめ)     1\n",
       "24                  (じめじめ, した)     1\n",
       "25                     (した, 所)     1\n",
       "26                      (所, で)     7\n",
       "27                 (で, ニャーニャー)     1\n",
       "28                (ニャーニャー, 泣く)     1\n",
       "29                     (泣く, て)     1\n",
       "...                        ...   ...\n",
       "56270                 (いざ, 知る)     1\n",
       "56271                  (、, 活版)     1\n",
       "56272                (手紙, くらい)     1\n",
       "56273                  (だ, 金銭)     1\n",
       "56274                  (金銭, を)     1\n",
       "56275                 (出す, よう)     1\n",
       "56276                 (主人, から)     1\n",
       "56277                  (ば, 軍隊)     1\n",
       "56278                  (軍隊, を)     1\n",
       "56279                  (を, 歓迎)     2\n",
       "56280                 (歓迎, する)     3\n",
       "56281                 (まず, 自分)     1\n",
       "56282      (__BEGIN__, 主人, から)     1\n",
       "56283                   (後, だ)     1\n",
       "56284                  (だ, 大抵)     1\n",
       "56285                  (は, 歓迎)     1\n",
       "56286                 (する, そう)     1\n",
       "56287                  (が, 朝夕)     1\n",
       "56288                  (朝夕, に)     1\n",
       "56289               (に, 差し支える)     1\n",
       "56290               (差し支える, 間)     1\n",
       "56291                  (、, 歓迎)     1\n",
       "56292                  (歓迎, は)     1\n",
       "56293                 (おく, 了見)     1\n",
       "56294                (了見, らしい)     1\n",
       "56295       (__BEGIN__, 自分, を)     1\n",
       "56296                   (二, 信)     1\n",
       "56297                   (信, を)     1\n",
       "56298                  (も, 活版)     1\n",
       "56299                  (活版, だ)     1\n",
       "\n",
       "[56300 rows x 2 columns]"
      ]
     },
     "execution_count": 11,
     "metadata": {},
     "output_type": "execute_result"
    }
   ],
   "source": [
    "import pandas as pd\n",
    "\n",
    "\"\"\"文章全部でbigramを集計②\n",
    "集計済のbigramをロードしてみる\n",
    "\"\"\"\n",
    "\n",
    "!wget https://storage.googleapis.com/chck/handson/170901text_generation/bigram_dict_waganeko.pkl\n",
    "dict_path = './bigram_dict_waganeko.pkl'\n",
    "# pd.DataFrame(list(bigram_freqs_all.items()), columns=['bigram', 'freq']).to_pickle(dict_path)\n",
    "pd.read_pickle(dict_path)"
   ]
  },
  {
   "cell_type": "code",
   "execution_count": 12,
   "metadata": {},
   "outputs": [
    {
     "data": {
      "text/html": [
       "<div>\n",
       "<table border=\"1\" class=\"dataframe\">\n",
       "  <thead>\n",
       "    <tr style=\"text-align: right;\">\n",
       "      <th></th>\n",
       "      <th>bigram</th>\n",
       "      <th>freq</th>\n",
       "    </tr>\n",
       "  </thead>\n",
       "  <tbody>\n",
       "    <tr>\n",
       "      <th>28</th>\n",
       "      <td>(ニャーニャー, 泣く)</td>\n",
       "      <td>1</td>\n",
       "    </tr>\n",
       "    <tr>\n",
       "      <th>18062</th>\n",
       "      <td>(ニャーニャー, と)</td>\n",
       "      <td>3</td>\n",
       "    </tr>\n",
       "  </tbody>\n",
       "</table>\n",
       "</div>"
      ],
      "text/plain": [
       "             bigram  freq\n",
       "28     (ニャーニャー, 泣く)     1\n",
       "18062   (ニャーニャー, と)     3"
      ]
     },
     "execution_count": 12,
     "metadata": {},
     "output_type": "execute_result"
    }
   ],
   "source": [
    "\"\"\"作ったbigram辞書で単語を検索してみる①\n",
    "\"\"\"\n",
    "\n",
    "bigram_dict = pd.read_pickle(dict_path)\n",
    "bigram_dict[bigram_dict.bigram.apply(lambda row: row[0] == 'ニャーニャー')]"
   ]
  },
  {
   "cell_type": "code",
   "execution_count": 13,
   "metadata": {},
   "outputs": [
    {
     "data": {
      "text/html": [
       "<div>\n",
       "<table border=\"1\" class=\"dataframe\">\n",
       "  <thead>\n",
       "    <tr style=\"text-align: right;\">\n",
       "      <th></th>\n",
       "      <th>bigram</th>\n",
       "      <th>freq</th>\n",
       "    </tr>\n",
       "  </thead>\n",
       "  <tbody>\n",
       "    <tr>\n",
       "      <th>28</th>\n",
       "      <td>(ニャーニャー, 泣く)</td>\n",
       "      <td>1</td>\n",
       "    </tr>\n",
       "    <tr>\n",
       "      <th>18062</th>\n",
       "      <td>(ニャーニャー, と)</td>\n",
       "      <td>3</td>\n",
       "    </tr>\n",
       "  </tbody>\n",
       "</table>\n",
       "</div>"
      ],
      "text/plain": [
       "             bigram  freq\n",
       "28     (ニャーニャー, 泣く)     1\n",
       "18062   (ニャーニャー, と)     3"
      ]
     },
     "execution_count": 13,
     "metadata": {},
     "output_type": "execute_result"
    }
   ],
   "source": [
    "\"\"\"作ったbigram辞書で単語を検索してみる②\n",
    "メソッド化してみる\n",
    "\"\"\"\n",
    "\n",
    "def find_bigrams(chunk):\n",
    "    bigram_dict = pd.read_pickle(dict_path)\n",
    "    return bigram_dict[bigram_dict.bigram.apply(lambda row: row[0] == chunk)]\n",
    "\n",
    "find_bigrams('ニャーニャー')"
   ]
  },
  {
   "cell_type": "code",
   "execution_count": 14,
   "metadata": {},
   "outputs": [
    {
     "data": {
      "text/plain": [
       "('__BEGIN__', 'いくら', '駄弁')"
      ]
     },
     "execution_count": 14,
     "metadata": {},
     "output_type": "execute_result"
    }
   ],
   "source": [
    "\"\"\"ついに文の生成部分へ①\n",
    "ひっかかった組み合わせの中から適当に１つ選ぶメソッドをつくる\n",
    "\"\"\"\n",
    "import random\n",
    "\n",
    "def find_bigram_atramdom(chunk):\n",
    "    bigrams = find_bigrams(chunk)\n",
    "    return random.choice(bigrams.values)[0]\n",
    "\n",
    "find_bigram_atramdom('__BEGIN__')"
   ]
  },
  {
   "cell_type": "code",
   "execution_count": 19,
   "metadata": {},
   "outputs": [
    {
     "data": {
      "text/plain": [
       "['但し', '檜']"
      ]
     },
     "execution_count": 19,
     "metadata": {},
     "output_type": "execute_result"
    }
   ],
   "source": [
    "\"\"\"ついに文の生成部分へ②\n",
    "\"\"\"\n",
    "chunks = []\n",
    "first_bigram = find_bigram_atramdom('__BEGIN__')\n",
    "\n",
    "# __BEGIN__を省くために[1]から\n",
    "chunks.append(first_bigram[1])\n",
    "chunks.append(first_bigram[2])\n",
    "chunks"
   ]
  },
  {
   "cell_type": "code",
   "execution_count": 20,
   "metadata": {},
   "outputs": [
    {
     "data": {
      "text/plain": [
       "'但し檜がかつてここにおいて望の…あなた。'"
      ]
     },
     "execution_count": 20,
     "metadata": {},
     "output_type": "execute_result"
    }
   ],
   "source": [
    "\"\"\"ついに文の生成部分へ③\n",
    "繋げすぎて迷子になって__END__までたどり着けない場合があるのでたまに失敗します\n",
    "\"\"\"\n",
    "\n",
    "# 一番最後の単語が__END__になるまで繰り返しbigramを繋げていく\n",
    "while chunks[-1] != '__END__':\n",
    "    bigram = find_bigram_atramdom(chunks[-1]) # 　文の一番後ろの単語でbigramを検索して繋げる\n",
    "    chunks.append(bigram[1]) # bigram[0] は検索単語と一緒なので繋げる部分はbigram[1]だけ\n",
    "    if len(bigram) == 3:\n",
    "        chunks.append(bigram[-1])  # if条件がイケてないがbigramのサイズが3==__END__なので__END__を繋げておわり\n",
    "        \n",
    "''.join(chunks[:-1]) # 最後の__END__を消してリスト->文字列にして完成"
   ]
  },
  {
   "cell_type": "code",
   "execution_count": 21,
   "metadata": {},
   "outputs": [
    {
     "data": {
      "text/plain": [
       "'足懸るの葉を頂戴」彼がすこぶる奇観の痘痕面らあ体に較べるてはおるんことを見廻す。'"
      ]
     },
     "execution_count": 21,
     "metadata": {},
     "output_type": "execute_result"
    }
   ],
   "source": [
    "\"\"\"ついに文の生成部分へ④\n",
    "ここまでをメソッド化\n",
    "\"\"\"\n",
    "\n",
    "def generate_sentence():\n",
    "    chunks = []\n",
    "    first_bigram = find_bigram_atramdom('__BEGIN__')\n",
    "\n",
    "    # __BEGIN__を省くために[1]から\n",
    "    chunks.append(first_bigram[1])\n",
    "    chunks.append(first_bigram[2])\n",
    "    \n",
    "    # 一番最後の単語が__END__になるまで繰り返しbigramを繋げていく\n",
    "    while chunks[-1] != '__END__':\n",
    "        bigram = find_bigram_atramdom(chunks[-1]) # 　文の一番後ろの単語でbigramを検索して繋げる\n",
    "        chunks.append(bigram[1]) # bigram[0] は検索単語と一緒なので繋げる部分はbigram[1]だけ\n",
    "        if len(bigram) == 3:\n",
    "            chunks.append(bigram[-1])  # if条件がイケてないがbigramのサイズが3==__END__なので__END__を繋げておわり\n",
    "\n",
    "    return  ''.join(chunks[:-1]) # 最後の__END__を消してリスト->文字列にして完成\n",
    "\n",
    "generate_sentence()"
   ]
  },
  {
   "cell_type": "code",
   "execution_count": 24,
   "metadata": {
    "collapsed": true
   },
   "outputs": [],
   "source": [
    "\"\"\"ついに文の生成部分へ⑤\n",
    "完全ランダムで次の単語を選ぶのはイケてないので、よく出てくる単語を優先して繋げるようにする\n",
    "\"\"\"\n",
    "\n",
    "def find_bigram_probable(chunk):\n",
    "    bigrams = find_bigrams(chunk) # 指定単語から始まる組み合わせを辞書から全検索\n",
    "    \n",
    "    candidates = [] # 出現回数でいい感じにした組み合わせ候補\n",
    "    for idx, row in bigrams.iterrows():\n",
    "        for _ in range(row.freq):\n",
    "            \"\"\"freq==出現回数\n",
    "            freqが高いほど次に選ばれる確率を高くするために、出現回数分、候補のリストに入れちゃう\n",
    "            \"\"\"\n",
    "            candidates.append(idx)\n",
    "            \n",
    "    # 候補の中から１つ選ぶ\n",
    "    return bigrams.ix[random.choice(candidates)].bigram"
   ]
  },
  {
   "cell_type": "code",
   "execution_count": 31,
   "metadata": {},
   "outputs": [
    {
     "data": {
      "text/plain": [
       "'四時に目覚しい食*。'"
      ]
     },
     "execution_count": 31,
     "metadata": {},
     "output_type": "execute_result"
    }
   ],
   "source": [
    "\"\"\"ついに文の生成部分へ⑥\n",
    "完全ランダムで次の単語を選ぶのはイケてないので、よく出てくる単語を優先して繋げるようにする\n",
    "\"\"\"\n",
    "\n",
    "def generate_sentence_v2():\n",
    "    chunks = []\n",
    "    first_bigram = find_bigram_probable('__BEGIN__')\n",
    "\n",
    "    # __BEGIN__を省くために[1]から\n",
    "    chunks.append(first_bigram[1])\n",
    "    chunks.append(first_bigram[2])\n",
    "    \n",
    "    # 一番最後の単語が__END__になるまで繰り返しbigramを繋げていく\n",
    "    while chunks[-1] != '__END__':\n",
    "        bigram = find_bigram_probable(chunks[-1]) # 　文の一番後ろの単語でbigramを検索して繋げる\n",
    "        chunks.append(bigram[1]) # bigram[0] は検索単語と一緒なので繋げる部分はbigram[1]だけ\n",
    "        if len(bigram) == 3:\n",
    "            chunks.append(bigram[-1])  # if条件がイケてないがbigramのサイズが3==__END__なので__END__を繋げておわり\n",
    "\n",
    "    return  ''.join(chunks[:-1]) # 最後の__END__を消してリスト->文字列にして完成\n",
    "\n",
    "generate_sentence_v2()"
   ]
  },
  {
   "cell_type": "markdown",
   "metadata": {},
   "source": [
    "### v2のほうがちょっと改善してるはず！！\n",
    "### おしまい"
   ]
  },
  {
   "cell_type": "markdown",
   "metadata": {
    "collapsed": true
   },
   "source": [
    "# 3. LSTM\n",
    "### 文を先頭からちょっとずつ読んでいって、重要そうな単語だけメモしつつ要約していく方法\n",
    "### DeepLearningの1手法"
   ]
  },
  {
   "cell_type": "code",
   "execution_count": null,
   "metadata": {
    "collapsed": true
   },
   "outputs": [],
   "source": []
  },
  {
   "cell_type": "code",
   "execution_count": 138,
   "metadata": {},
   "outputs": [
    {
     "data": {
      "text/plain": [
       "'RNN\\n'"
      ]
     },
     "execution_count": 138,
     "metadata": {},
     "output_type": "execute_result"
    }
   ],
   "source": [
    "\"\"\"RNN\n",
    "\"\"\""
   ]
  },
  {
   "cell_type": "code",
   "execution_count": null,
   "metadata": {
    "collapsed": true
   },
   "outputs": [],
   "source": [
    "\"\"\"LSTM\n",
    "\"\"\""
   ]
  },
  {
   "cell_type": "code",
   "execution_count": null,
   "metadata": {
    "collapsed": true
   },
   "outputs": [],
   "source": [
    "\"\"\"Seq2Seq\n",
    "\"\"\""
   ]
  },
  {
   "cell_type": "code",
   "execution_count": null,
   "metadata": {
    "collapsed": true
   },
   "outputs": [],
   "source": [
    "\"\"\"まとめ\n",
    "自然言語処理は前処理9割の学問です\n",
    "\"\"\""
   ]
  }
 ],
 "metadata": {
  "kernelspec": {
   "display_name": "Python 3",
   "language": "python",
   "name": "python3"
  },
  "language_info": {
   "codemirror_mode": {
    "name": "ipython",
    "version": 3
   },
   "file_extension": ".py",
   "mimetype": "text/x-python",
   "name": "python",
   "nbconvert_exporter": "python",
   "pygments_lexer": "ipython3",
   "version": "3.6.2"
  }
 },
 "nbformat": 4,
 "nbformat_minor": 2
}
